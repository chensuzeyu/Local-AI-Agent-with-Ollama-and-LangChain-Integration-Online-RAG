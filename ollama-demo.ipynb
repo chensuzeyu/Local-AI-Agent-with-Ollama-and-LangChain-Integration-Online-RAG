{
 "cells": [
  {
   "cell_type": "markdown",
   "metadata": {},
   "source": [
    "# Local AI Agent (ChatOllama + langchain + RAG)\n",
    "\n",
    "## 1 Overview\n",
    "\n",
    "### 1.1 Integration details\n",
    "\n",
    "| Class       | Package           | Local | Serializable | JS support | Package downloads | Package latest |\n",
    "|-------------|-------------------|-------|--------------|------------|-------------------|----------------|\n",
    "| ChatOllama  | langchain-ollama  | ✔     | ✖            | ✔          | 50k/month         | v0.1.3         |\n",
    "\n",
    "### 1.2 Model features\n",
    "\n",
    "| Tool calling | Structured output | JSON mode | Image input | Audio input | Video input | Token-level streaming | Native async | Token usage | Logprobs |\n",
    "|--------------|-------------------|-----------|-------------|-------------|-------------|--------------|-------------|-------------|----------|\n",
    "| ✔            | ✖                | ✔        | ✖           | ✖           | ✖          | ✔            | ✔          | ✖           | ✖       |\n",
    "\n",
    "\n",
    "The LangChain Ollama integration lives in the langchain-ollama package\n",
    "\n",
    "\n",
    "## 2 Initialize Python Env\n",
    "\n",
    "miniconda + jupyter + python installation tutorial link: [https://blog.csdn.net/weixin_57972634/article/details/142107300](https://blog.csdn.net/weixin_57972634/article/details/142107300)"
   ]
  },
  {
   "cell_type": "code",
   "execution_count": 4,
   "metadata": {},
   "outputs": [],
   "source": [
    "# langgraph Requires-Python >=3.9.0,<4.0\n",
    "# conda create -n ollama-1 python=3.9\n",
    "# conda activate ollama-1\n",
    "# pip install ipykernel\n",
    "# python -m ipykernel install --user --name ollama-1 --display-name ollama-1"
   ]
  },
  {
   "cell_type": "markdown",
   "metadata": {},
   "source": [
    "* Restart jupyter can see the new kernel"
   ]
  },
  {
   "cell_type": "code",
   "execution_count": null,
   "metadata": {},
   "outputs": [],
   "source": [
    "# pip install -U langchain-ollama\n",
    "# pip install zhipuai\n",
    "# pip install langchain_community\n",
    "# pip install langgraph\n",
    "# pip install langgraph-checkpoint-sqlite==2.0.3\n",
    "# pip install langgraph-prebuilt"
   ]
  },
  {
   "cell_type": "markdown",
   "metadata": {},
   "source": [
    "## 3 Instantiation (实例化)\n",
    "\n",
    "Now we can instantiate our model object and generate chat completions:\n",
    "* TODO: Update model instantiation with relevant params"
   ]
  },
  {
   "cell_type": "code",
   "execution_count": 2,
   "metadata": {},
   "outputs": [
    {
     "data": {
      "text/plain": [
       "ChatOllama(model='qwen2.5:1.5b', temperature=0.36)"
      ]
     },
     "execution_count": 2,
     "metadata": {},
     "output_type": "execute_result"
    }
   ],
   "source": [
    "from langchain_ollama import ChatOllama\n",
    "\n",
    "llm = ChatOllama(\n",
    "    model = \"qwen2.5:1.5b\",  # model = \"deepseek-r1:7b\",\n",
    "    temperature = 0.36,  # 0.7\n",
    "    # other params...\n",
    ")\n",
    "\n",
    "llm"
   ]
  },
  {
   "cell_type": "markdown",
   "metadata": {},
   "source": [
    "## 4 Invocation (调用)"
   ]
  },
  {
   "cell_type": "code",
   "execution_count": 3,
   "metadata": {},
   "outputs": [
    {
     "data": {
      "text/plain": [
       "AIMessage(content='1. **政策支持**：杭州和深圳都推出了各种优惠政策吸引企业和人才。例如，杭州提供税收优惠、研发补贴等；深圳则有“深港通”、“前海新政”等措施。\\n\\n2. **创新氛围**：这两个城市都有浓厚的创新氛围和文化。杭州有着西湖大学这样的顶尖高校，深圳则有华为、腾讯等科技巨头作为榜样。\\n\\n3. **营商环境**：营商环境是决定企业能否成功的关键因素。杭州和深圳都致力于优化营商环境，简化审批流程，提高服务效率，降低企业的运营成本。\\n\\n4. **人才吸引**：这两个城市都非常重视对人才的引进和培养。杭州有“钱塘江创新走廊”等项目，深圳则有“孔雀计划”，为科技人才提供良好的工作和生活条件。\\n\\n5. **产业基础**：虽然深圳在某些领域如人工智能、生物医药等方面有所优势，但在整体产业链上，杭州拥有更完整的电子、软件、硬件制造链条。这使得杭州能够吸引更多的上下游企业，形成产业集群效应。\\n\\n6. **市场潜力**：中国庞大的内需市场为这两个城市提供了巨大的发展空间。杭州和深圳都抓住了这一机遇，通过打造品牌和提升服务质量来扩大市场份额。\\n\\n7. **创业生态系统**：杭州有“西湖论剑”这样的活动，深圳则有“未来科技大会”等平台，这些活动为企业提供了一个展示自己、寻求合作的舞台。\\n\\n8. **科技创新能力**：虽然深圳在某些领域如人工智能、生物医药等方面有所优势，但在整体创新能力和研发实力上，杭州可能更胜一筹。这使得杭州能够吸引更多的高新技术企业和研究机构入驻。\\n\\n综上所述，杭州能够孵化出很多顶级的科技独角兽，主要得益于其完善的政策支持体系、浓厚的创新氛围、优越的营商环境以及强大的人才吸引力。深圳在某些领域具有优势，但在整体发展和创新能力方面可能需要进一步提升。', additional_kwargs={}, response_metadata={'model': 'qwen2.5:1.5b', 'created_at': '2025-02-27T11:35:47.939353Z', 'done': True, 'done_reason': 'stop', 'total_duration': 13003841200, 'load_duration': 881669700, 'prompt_eval_count': 82, 'prompt_eval_duration': 475000000, 'eval_count': 395, 'eval_duration': 11302000000, 'message': Message(role='assistant', content='', images=None, tool_calls=None)}, id='run-d20fd7a7-0f80-427a-853d-afb32226a16f-0', usage_metadata={'input_tokens': 82, 'output_tokens': 395, 'total_tokens': 477})"
      ]
     },
     "execution_count": 3,
     "metadata": {},
     "output_type": "execute_result"
    }
   ],
   "source": [
    "messages = [\n",
    "    (\n",
    "        \"system\",\n",
    "        \"你现在是一个资深的政府智库人员，\\n\"\n",
    "        \"有着很专业的政策分析知识，\\n\"\n",
    "        \"用案例和数据说话，\\n\"\n",
    "        \"表达简单，分点\\n\"\n",
    "        \"说话简洁且有逻辑，善于回答问题，\\n\"\n",
    "        \"快速推理，字数要精炼，字数要少\"\n",
    "    ),\n",
    "    (\"human\", \"说说为什么杭州能够孵化出很多顶级的科技独角兽，深圳在最近几年落后了\")\n",
    "]\n",
    "\n",
    "ai_msg = llm.invoke(messages)\n",
    "ai_msg\n"
   ]
  },
  {
   "cell_type": "markdown",
   "metadata": {},
   "source": [
    "### 4.1 Optimize Visualization"
   ]
  },
  {
   "cell_type": "code",
   "execution_count": 14,
   "metadata": {},
   "outputs": [
    {
     "data": {
      "text/html": [
       "1. **政策支持**：杭州和深圳都推出了各种优惠政策吸引企业和人才。例如，杭州提供税收优惠、研发补贴等；深圳则有“深港通”、“前海新政”等措施。<br><br>2. **创新氛围**：这两个城市都有浓厚的创新氛围和文化。杭州有着西湖大学这样的顶尖高校，深圳则有华为、腾讯等科技巨头作为榜样。<br><br>3. **营商环境**：营商环境是决定企业能否成功的关键因素。杭州和深圳都致力于优化营商环境，简化审批流程，提高服务效率，降低企业的运营成本。<br><br>4. **人才吸引**：这两个城市都非常重视对人才的引进和培养。杭州有“钱塘江创新走廊”等项目，深圳则有“孔雀计划”，为科技人才提供良好的工作和生活条件。<br><br>5. **产业基础**：虽然深圳在某些领域如人工智能、生物医药等方面有所优势，但在整体产业链上，杭州拥有更完整的电子、软件、硬件制造链条。这使得杭州能够吸引更多的上下游企业，形成产业集群效应。<br><br>6. **市场潜力**：中国庞大的内需市场为这两个城市提供了巨大的发展空间。杭州和深圳都抓住了这一机遇，通过打造品牌和提升服务质量来扩大市场份额。<br><br>7. **创业生态系统**：杭州有“西湖论剑”这样的活动，深圳则有“未来科技大会”等平台，这些活动为企业提供了一个展示自己、寻求合作的舞台。<br><br>8. **科技创新能力**：虽然深圳在某些领域如人工智能、生物医药等方面有所优势，但在整体创新能力和研发实力上，杭州可能更胜一筹。这使得杭州能够吸引更多的高新技术企业和研究机构入驻。<br><br>综上所述，杭州能够孵化出很多顶级的科技独角兽，主要得益于其完善的政策支持体系、浓厚的创新氛围、优越的营商环境以及强大的人才吸引力。深圳在某些领域具有优势，但在整体发展和创新能力方面可能需要进一步提升。"
      ],
      "text/plain": [
       "<IPython.core.display.HTML object>"
      ]
     },
     "metadata": {},
     "output_type": "display_data"
    }
   ],
   "source": [
    "from IPython.display import display, HTML\n",
    "\n",
    "class MessageDisplayer:\n",
    "    def __init__(self, ai_message):\n",
    "        \"\"\"\n",
    "        初始化 MessageDisplayer 实例。\n",
    "\n",
    "        :param ai_message: AIMessage 对象，包含要显示的消息内容。\n",
    "        \"\"\"\n",
    "        self.ai_message = ai_message\n",
    "\n",
    "    def display(self):\n",
    "        \"\"\"\n",
    "        将 AIMessage 的内容以 HTML 格式显示。\n",
    "        \"\"\"\n",
    "        # 获取消息内容\n",
    "        message_content = self.ai_message.content\n",
    "\n",
    "        # 将内容按行分割\n",
    "        message_lines = message_content.split('\\n')\n",
    "\n",
    "        # 使用 <br> 标签连接每一行\n",
    "        html_content = \"<br>\".join(message_lines)\n",
    "\n",
    "        # 显示 HTML 内容\n",
    "        display(HTML(html_content))\n",
    "\n",
    "\n",
    "# 创建 MessageDisplayer 实例\n",
    "displayer = MessageDisplayer(ai_message=ai_msg)\n",
    "\n",
    "# 显示消息内容\n",
    "displayer.display()\n"
   ]
  },
  {
   "cell_type": "markdown",
   "metadata": {},
   "source": [
    "## 5 Add Tool (智谱AI-Search)"
   ]
  },
  {
   "cell_type": "code",
   "execution_count": 8,
   "metadata": {},
   "outputs": [],
   "source": [
    "# pip install zhipuai\n",
    "\n",
    "from langchain_core.tools import tool\n",
    "from zhipuai import ZhipuAI"
   ]
  },
  {
   "cell_type": "code",
   "execution_count": null,
   "metadata": {},
   "outputs": [],
   "source": [
    "# 创建tool\n",
    "@tool\n",
    "def zhipu_search(query: str):\n",
    "    \"\"\"\n",
    "    智谱搜索引擎，输入一个字符串问题，返回字符串结果\n",
    "    \"\"\"\n",
    "    client = ZhipuAI(api_key=\"948ca3944ff84d439cae28bee5a0d89\")  # 填入智谱开放平台的api秘钥\n",
    "    tools = [{\"type\": \"web_search\", \"web_search\": {\"enable\": True,}}]\n",
    "    messages = [{\"role\": \"user\", \"content\": query}]\n",
    "    response = client.chat.completions.create(model=\"glm-4\", messages=messages, tools=tools)\n",
    "\n",
    "    msg = response.choices[0].message.content\n",
    "    print(\"智谱搜索: \\n 问题: {}\\n回答: {}\".format(query,msg))\n",
    "    return msg"
   ]
  },
  {
   "cell_type": "code",
   "execution_count": 19,
   "metadata": {},
   "outputs": [
    {
     "name": "stdout",
     "output_type": "stream",
     "text": [
      "智谱搜索: \n",
      " 问题: 简单说说深圳在产业扶持和支持创新创业上有哪些最新的政策，要具体到日期，分点回答，300字以内\n",
      "回答: 深圳在产业扶持和支持创新创业方面的最新政策如下：\n",
      "\n",
      "1. 2024年2月23日，深圳市政府新闻办宣布，设立100亿人工智能和机器人产业基金，聚焦人工智能的软件、硬件、具身智能等方向，投资高成长性企业，解决融资难题。\n",
      "\n",
      "2. 同日，深圳提出加强政策支持，发放最高60%、最高1000万元的训力券补贴，以及模型券、语料券、场景补贴等，筹集45亿元政策资金。\n",
      "\n",
      "3. 2024年起，深圳将为来深求职的高校应届毕业生提供7天免费住宿政策延长至15天，并实施鲲鹏青年创新创业合作计划，为在校大学生和青年创业者提供最高100万元资助。\n",
      "\n",
      "4. 深圳将继续实施市科技重大专项，揭榜挂帅类项目资助额度最高3000万元，论证类项目资助金额最高1亿元。\n",
      "\n",
      "5. 2024年，深圳推出不少于400家孵化器、众创空间、科技园区等产业创新空间，为初创企业梯度配置办公空间，实现“只收梦想，不收租金”。\n",
      "\n",
      "6. 深圳将实施百万英才汇南粤行动，发布顶才汇、企才汇、创才汇、青才汇政策包，鼓励全社会多引才、留才。\n"
     ]
    },
    {
     "data": {
      "text/plain": [
       "'深圳在产业扶持和支持创新创业方面的最新政策如下：\\n\\n1. 2024年2月23日，深圳市政府新闻办宣布，设立100亿人工智能和机器人产业基金，聚焦人工智能的软件、硬件、具身智能等方向，投资高成长性企业，解决融资难题。\\n\\n2. 同日，深圳提出加强政策支持，发放最高60%、最高1000万元的训力券补贴，以及模型券、语料券、场景补贴等，筹集45亿元政策资金。\\n\\n3. 2024年起，深圳将为来深求职的高校应届毕业生提供7天免费住宿政策延长至15天，并实施鲲鹏青年创新创业合作计划，为在校大学生和青年创业者提供最高100万元资助。\\n\\n4. 深圳将继续实施市科技重大专项，揭榜挂帅类项目资助额度最高3000万元，论证类项目资助金额最高1亿元。\\n\\n5. 2024年，深圳推出不少于400家孵化器、众创空间、科技园区等产业创新空间，为初创企业梯度配置办公空间，实现“只收梦想，不收租金”。\\n\\n6. 深圳将实施百万英才汇南粤行动，发布顶才汇、企才汇、创才汇、青才汇政策包，鼓励全社会多引才、留才。'"
      ]
     },
     "execution_count": 19,
     "metadata": {},
     "output_type": "execute_result"
    }
   ],
   "source": [
    "zhipu_search.invoke(\"简单说说深圳在产业扶持和支持创新创业上有哪些最新的政策，要具体到日期，分点回答，300字以内\")"
   ]
  },
  {
   "cell_type": "markdown",
   "metadata": {},
   "source": [
    "## 6 Agent Memorizes (SQL Database)"
   ]
  },
  {
   "cell_type": "code",
   "execution_count": 18,
   "metadata": {},
   "outputs": [
    {
     "name": "stdout",
     "output_type": "stream",
     "text": [
      "数据库连接成功\n"
     ]
    }
   ],
   "source": [
    "import sqlite3\n",
    "\n",
    "# 指定数据库文件的路径\n",
    "db_path = 'd:/BaiduSyncdisk/develop/AI-Agent/agent-test/sqlite-db-1.db'\n",
    "\n",
    "# 连接到数据库（如果文件不存在，会自动创建）\n",
    "conn = sqlite3.connect(db_path)\n",
    "print(\"数据库连接成功\")\n",
    "conn.close()"
   ]
  },
  {
   "cell_type": "markdown",
   "metadata": {},
   "source": [
    "## 7 Local Agent (LangChain + RAG) (集成以上全部功能)"
   ]
  },
  {
   "cell_type": "code",
   "execution_count": 6,
   "metadata": {},
   "outputs": [],
   "source": [
    "# pip install langchain_community\n",
    "# pip install langgraph\n",
    "# pip install langgraph-checkpoint-sqlite==2.0.3\n",
    "# pip install langgraph-prebuilt\n",
    "\n",
    "from langchain_community.tools.tavily_search import TavilySearchResults\n",
    "from langchain_core.messages import HumanMessage\n",
    "from langgraph.checkpoint.sqlite import SqliteSaver\n",
    "from langgraph.prebuilt import create_react_agent"
   ]
  },
  {
   "cell_type": "code",
   "execution_count": null,
   "metadata": {},
   "outputs": [
    {
     "name": "stdout",
     "output_type": "stream",
     "text": [
      "{'agent': {'messages': [AIMessage(content='', additional_kwargs={}, response_metadata={'model': 'qwen2.5:1.5b', 'created_at': '2025-02-27T11:11:59.5102197Z', 'done': True, 'done_reason': 'stop', 'total_duration': 1282283700, 'load_duration': 27168600, 'prompt_eval_count': 591, 'prompt_eval_duration': 173000000, 'eval_count': 37, 'eval_duration': 1016000000, 'message': Message(role='assistant', content='', images=None, tool_calls=None)}, id='run-e3a407f6-726e-4bcd-903f-a5bb87129389-0', tool_calls=[{'name': 'zhipu_search', 'args': {'query': '广州今日天气'}, 'id': 'c25e6366-c4ac-4b7e-9c70-b6214304ae08', 'type': 'tool_call'}], usage_metadata={'input_tokens': 591, 'output_tokens': 37, 'total_tokens': 628})]}}\n",
      "----\n",
      "智谱搜索: \n",
      " 问题: 广州今日天气\n",
      "回答: 根据您提供的参考信息，广州今天的天气情况如下：\n",
      "\n",
      "- 当前气温：19.7摄氏度\n",
      "- 天气状况：晴\n",
      "- 风向：北风\n",
      "- 风力：0级\n",
      "- 湿度：82%\n",
      "- 空气质量：55\n",
      "\n",
      "请注意，这是基于2025年02月27日的数据，如果您需要最新的天气信息，建议查询权威的天气预报服务。\n",
      "{'tools': {'messages': [ToolMessage(content='根据您提供的参考信息，广州今天的天气情况如下：\\n\\n- 当前气温：19.7摄氏度\\n- 天气状况：晴\\n- 风向：北风\\n- 风力：0级\\n- 湿度：82%\\n- 空气质量：55\\n\\n请注意，这是基于2025年02月27日的数据，如果您需要最新的天气信息，建议查询权威的天气预报服务。', name='zhipu_search', id='59a27b4d-009a-41a0-b518-e26d8de43611', tool_call_id='c25e6366-c4ac-4b7e-9c70-b6214304ae08')]}}\n",
      "----\n",
      "{'agent': {'messages': [AIMessage(content='广州今天的天气情况如下：\\n\\n- 当前气温为19.7摄氏度；\\n- 天气状况是晴天；\\n- 风向为北风，风力为0级；\\n- 空气湿度为82%；\\n- 空气质量指数为55。\\n\\n请注意，这是基于2025年02月27日的数据。如果您需要最新的天气信息，请查询权威的天气预报服务。', additional_kwargs={}, response_metadata={'model': 'qwen2.5:1.5b', 'created_at': '2025-02-27T11:12:08.4591892Z', 'done': True, 'done_reason': 'stop', 'total_duration': 3848495900, 'load_duration': 24637400, 'prompt_eval_count': 732, 'prompt_eval_duration': 1001000000, 'eval_count': 96, 'eval_duration': 2730000000, 'message': Message(role='assistant', content='广州今天的天气情况如下：\\n\\n- 当前气温为19.7摄氏度；\\n- 天气状况是晴天；\\n- 风向为北风，风力为0级；\\n- 空气湿度为82%；\\n- 空气质量指数为55。\\n\\n请注意，这是基于2025年02月27日的数据。如果您需要最新的天气信息，请查询权威的天气预报服务。', images=None, tool_calls=None)}, id='run-b5307121-702c-40c6-aca2-1664c805946b-0', usage_metadata={'input_tokens': 732, 'output_tokens': 96, 'total_tokens': 828})]}}\n",
      "----\n"
     ]
    }
   ],
   "source": [
    "# 使用磁盘上的 SQLite 数据库文件\n",
    "db_path = 'd:/BaiduSyncdisk/develop/AI-Agent/agent-test/sqlite-db-1.db'\n",
    "with SqliteSaver.from_conn_string(f\"d:/BaiduSyncdisk/develop/AI-Agent/agent-test/sqlite-db-1.db\") as memory:\n",
    "    # 创建智能体\n",
    "    model = llm\n",
    "    search = zhipu_search\n",
    "    tools = [search]\n",
    "    agent_executor = create_react_agent(model, tools, checkpointer=memory)\n",
    "\n",
    "    # 使用智能体\n",
    "    config = {\"configurable\": {\"thread_id\": \"user_a_1\"}}  # 支持多线程对话\n",
    "    for chunk in agent_executor.stream(\n",
    "        {\"messages\": [HumanMessage(content=\"你好,我住在广州,请搜索广州今日的天气\")]}, config):\n",
    "        print(chunk)\n",
    "        print(\"----\")\n"
   ]
  },
  {
   "cell_type": "code",
   "execution_count": null,
   "metadata": {},
   "outputs": [
    {
     "data": {
      "text/html": [
       "我们刚才进行了以下操作：<br>1. 使用“智谱搜索引擎”工具查询了广州今天的天气情况。<br>2. 通过搜索结果，了解到广州今天的气温约为19.7摄氏度，天气晴朗，风向为北风，湿度为82%，空气质量指数为55。"
      ],
      "text/plain": [
       "<IPython.core.display.HTML object>"
      ]
     },
     "metadata": {},
     "output_type": "display_data"
    },
    {
     "name": "stdout",
     "output_type": "stream",
     "text": [
      "----\n"
     ]
    }
   ],
   "source": [
    "# 使用磁盘上的 SQLite 数据库文件\n",
    "db_path = 'd:/BaiduSyncdisk/develop/AI-Agent/agent-test/sqlite-db-1.db'\n",
    "with SqliteSaver.from_conn_string(f\"d:/BaiduSyncdisk/develop/AI-Agent/agent-test/sqlite-db-1.db\") as memory:\n",
    "    # 创建智能体\n",
    "    model = llm\n",
    "    search = zhipu_search\n",
    "    tools = [search]\n",
    "    agent_executor = create_react_agent(model, tools, checkpointer=memory)\n",
    "\n",
    "    # 使用智能体\n",
    "    config = {\"configurable\": {\"thread_id\": \"user_a_1\"}}  # 支持多线程对话\n",
    "    for chunk in agent_executor.stream(\n",
    "        {\"messages\": [HumanMessage(content=\"具体分点说说我们刚才聊了什么\")]}, config):\n",
    "        displayer = MessageDisplayer(ai_message=chunk['agent']['messages'][0])\n",
    "        displayer.display()\n",
    "        print(\"----\")"
   ]
  }
 ],
 "metadata": {
  "kernelspec": {
   "display_name": "ollama-1",
   "language": "python",
   "name": "ollama-1"
  },
  "language_info": {
   "codemirror_mode": {
    "name": "ipython",
    "version": 3
   },
   "file_extension": ".py",
   "mimetype": "text/x-python",
   "name": "python",
   "nbconvert_exporter": "python",
   "pygments_lexer": "ipython3",
   "version": "3.9.21"
  }
 },
 "nbformat": 4,
 "nbformat_minor": 2
}
